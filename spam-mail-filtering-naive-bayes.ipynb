{
 "cells": [
  {
   "cell_type": "code",
   "execution_count": 1,
   "id": "db85cef1",
   "metadata": {
    "_cell_guid": "b1076dfc-b9ad-4769-8c92-a6c4dae69d19",
    "_uuid": "8f2839f25d086af736a60e9eeb907d3b93b6e0e5",
    "execution": {
     "iopub.execute_input": "2023-12-14T04:17:29.728766Z",
     "iopub.status.busy": "2023-12-14T04:17:29.728368Z",
     "iopub.status.idle": "2023-12-14T04:17:31.129247Z",
     "shell.execute_reply": "2023-12-14T04:17:31.128248Z"
    },
    "papermill": {
     "duration": 1.407003,
     "end_time": "2023-12-14T04:17:31.131444",
     "exception": false,
     "start_time": "2023-12-14T04:17:29.724441",
     "status": "completed"
    },
    "tags": []
   },
   "outputs": [
    {
     "name": "stdout",
     "output_type": "stream",
     "text": [
      "Accuracy: 100.00%\n",
      "Confusion Matrix:\n",
      "[[2 0]\n",
      " [0 1]]\n",
      "Classification Report:\n",
      "              precision    recall  f1-score   support\n",
      "\n",
      "           0       1.00      1.00      1.00         2\n",
      "           1       1.00      1.00      1.00         1\n",
      "\n",
      "    accuracy                           1.00         3\n",
      "   macro avg       1.00      1.00      1.00         3\n",
      "weighted avg       1.00      1.00      1.00         3\n",
      "\n"
     ]
    }
   ],
   "source": [
    "from sklearn.feature_extraction.text import CountVectorizer\n",
    "from sklearn.model_selection import train_test_split\n",
    "from sklearn.naive_bayes import MultinomialNB\n",
    "from sklearn.metrics import accuracy_score, confusion_matrix, classification_report\n",
    "\n",
    "# Sample dataset - Replace with your own spam/ham dataset\n",
    "messages = [\n",
    "    \"Hello, how are you?\",\n",
    "    \"Congratulations, you've won a prize!\",\n",
    "    \"Click here to claim your reward!\",\n",
    "    \"Meeting at 3 PM today.\",\n",
    "    \"Buy one get one free offer!\",\n",
    "    \"Buy one get four free offer!\",\n",
    "    \"Planning team vist at 5 PM today.\",\n",
    "    \"Buy two get seven free offer!\",\n",
    "    \"Meeting at 5 PM today.\",\n",
    "    \"Congratulations, you've won a trip to paris!\",\n",
    "    \"Click here to for your reward!\",\n",
    "    \"Attend meeting at 3 PM today.\",\n",
    "    \"Buy three get one free offer!\",\n",
    "]\n",
    "\n",
    "labels = [0, 1, 1, 0, 1,1,0,1,0,1,1,0,1]  # 0 for ham, 1 for spam\n",
    "\n",
    "# Convert text data into numerical features using CountVectorizer\n",
    "vectorizer = CountVectorizer()\n",
    "X = vectorizer.fit_transform(messages)\n",
    "\n",
    "# Split the dataset into training and testing sets\n",
    "X_train, X_test, y_train, y_test = train_test_split(X, labels, test_size=0.2, random_state=42)\n",
    "\n",
    "# Create a Multinomial Naive Bayes model\n",
    "model = MultinomialNB()\n",
    "\n",
    "# Train the model on the training data\n",
    "model.fit(X_train, y_train)\n",
    "\n",
    "# Make predictions on the test data\n",
    "y_pred = model.predict(X_test)\n",
    "\n",
    "# Evaluate the model\n",
    "accuracy = accuracy_score(y_test, y_pred)\n",
    "confusion = confusion_matrix(y_test, y_pred)\n",
    "classification_report_str = classification_report(y_test, y_pred)\n",
    "\n",
    "# Print the results\n",
    "print(\"Accuracy: {:.2f}%\".format(accuracy*100))\n",
    "print(\"Confusion Matrix:\")\n",
    "print(confusion)\n",
    "print(\"Classification Report:\")\n",
    "print(classification_report_str)"
   ]
  }
 ],
 "metadata": {
  "kaggle": {
   "accelerator": "none",
   "dataSources": [],
   "dockerImageVersionId": 30626,
   "isGpuEnabled": false,
   "isInternetEnabled": true,
   "language": "python",
   "sourceType": "notebook"
  },
  "kernelspec": {
   "display_name": "Python 3",
   "language": "python",
   "name": "python3"
  },
  "language_info": {
   "codemirror_mode": {
    "name": "ipython",
    "version": 3
   },
   "file_extension": ".py",
   "mimetype": "text/x-python",
   "name": "python",
   "nbconvert_exporter": "python",
   "pygments_lexer": "ipython3",
   "version": "3.10.12"
  },
  "papermill": {
   "default_parameters": {},
   "duration": 5.233602,
   "end_time": "2023-12-14T04:17:31.552907",
   "environment_variables": {},
   "exception": null,
   "input_path": "__notebook__.ipynb",
   "output_path": "__notebook__.ipynb",
   "parameters": {},
   "start_time": "2023-12-14T04:17:26.319305",
   "version": "2.4.0"
  }
 },
 "nbformat": 4,
 "nbformat_minor": 5
}
