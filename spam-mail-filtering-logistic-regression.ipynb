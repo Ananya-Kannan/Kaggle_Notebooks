{
 "cells": [
  {
   "cell_type": "code",
   "execution_count": 1,
   "id": "1d3d6f26",
   "metadata": {
    "_cell_guid": "b1076dfc-b9ad-4769-8c92-a6c4dae69d19",
    "_uuid": "8f2839f25d086af736a60e9eeb907d3b93b6e0e5",
    "execution": {
     "iopub.execute_input": "2023-12-14T04:13:05.227180Z",
     "iopub.status.busy": "2023-12-14T04:13:05.226387Z",
     "iopub.status.idle": "2023-12-14T04:13:06.635071Z",
     "shell.execute_reply": "2023-12-14T04:13:06.633628Z"
    },
    "papermill": {
     "duration": 1.413878,
     "end_time": "2023-12-14T04:13:06.637088",
     "exception": false,
     "start_time": "2023-12-14T04:13:05.223210",
     "status": "completed"
    },
    "tags": []
   },
   "outputs": [
    {
     "name": "stdout",
     "output_type": "stream",
     "text": [
      "Accuracy: 66.67%\n",
      "Confusion Matrix:\n",
      " [[1 1]\n",
      " [0 1]]\n",
      "Classification Report:\n",
      "               precision    recall  f1-score   support\n",
      "\n",
      "           0       1.00      0.50      0.67         2\n",
      "           1       0.50      1.00      0.67         1\n",
      "\n",
      "    accuracy                           0.67         3\n",
      "   macro avg       0.75      0.75      0.67         3\n",
      "weighted avg       0.83      0.67      0.67         3\n",
      "\n"
     ]
    }
   ],
   "source": [
    "# Import necessary libraries\n",
    "import numpy as np\n",
    "from sklearn.model_selection import train_test_split\n",
    "from sklearn.feature_extraction.text import CountVectorizer\n",
    "from sklearn.linear_model import LogisticRegression\n",
    "from sklearn.metrics import accuracy_score, confusion_matrix, classification_report\n",
    "\n",
    "# Sample data (replace this with your dataset)\n",
    "# X contains the features (email content), y contains the labels (0 or 1)\n",
    "X = [\n",
    "    \"Hello, how are you?\",\n",
    "    \"Congratulations, you've won a prize!\",\n",
    "    \"Click here to claim your reward!\",\n",
    "    \"Meeting at 3 PM today.\",\n",
    "    \"Buy one get two free offer!\",\n",
    "    \"Buy one get four free offer!\",\n",
    "    \"Planning team vist at 5 PM today.\",\n",
    "    \"Buy two get seven free offer!\",\n",
    "    \"Meeting at 5 PM today.\",\n",
    "    \"Congratulations, you've won a trip to paris!\",\n",
    "    \"Click here to for your reward!\",\n",
    "    \"Attend meeting at 3 PM today.\",\n",
    "    \"Buy three get one free offer!\",\n",
    "]\n",
    "\n",
    "y = [0, 1, 1, 0, 1,1,0,1,0,1,1,0,1]\n",
    "\n",
    "# Split the data into training and testing sets\n",
    "X_train, X_test, y_train, y_test = train_test_split(X, y, test_size=0.2, random_state=42)\n",
    "\n",
    "# Convert text data to numerical features using CountVectorizer\n",
    "vectorizer = CountVectorizer()\n",
    "X_train_vectorized = vectorizer.fit_transform(X_train)\n",
    "X_test_vectorized = vectorizer.transform(X_test)\n",
    "\n",
    "# Initialize and train the logistic regression model\n",
    "model = LogisticRegression()\n",
    "model.fit(X_train_vectorized, y_train)\n",
    "\n",
    "# Predictions on the test set\n",
    "predictions = model.predict(X_test_vectorized)\n",
    "\n",
    "# Evaluate the model\n",
    "accuracy = accuracy_score(y_test, predictions)\n",
    "conf_matrix = confusion_matrix(y_test, predictions)\n",
    "classification_rep = classification_report(y_test, predictions)\n",
    "\n",
    "print(\"Accuracy: {:.2f}%\".format(accuracy * 100))\n",
    "print(\"Confusion Matrix:\\n\", conf_matrix)\n",
    "print(\"Classification Report:\\n\", classification_rep)"
   ]
  }
 ],
 "metadata": {
  "kaggle": {
   "accelerator": "none",
   "dataSources": [],
   "dockerImageVersionId": 30626,
   "isGpuEnabled": false,
   "isInternetEnabled": true,
   "language": "python",
   "sourceType": "notebook"
  },
  "kernelspec": {
   "display_name": "Python 3",
   "language": "python",
   "name": "python3"
  },
  "language_info": {
   "codemirror_mode": {
    "name": "ipython",
    "version": 3
   },
   "file_extension": ".py",
   "mimetype": "text/x-python",
   "name": "python",
   "nbconvert_exporter": "python",
   "pygments_lexer": "ipython3",
   "version": "3.10.12"
  },
  "papermill": {
   "default_parameters": {},
   "duration": 4.447692,
   "end_time": "2023-12-14T04:13:07.057033",
   "environment_variables": {},
   "exception": null,
   "input_path": "__notebook__.ipynb",
   "output_path": "__notebook__.ipynb",
   "parameters": {},
   "start_time": "2023-12-14T04:13:02.609341",
   "version": "2.4.0"
  }
 },
 "nbformat": 4,
 "nbformat_minor": 5
}
