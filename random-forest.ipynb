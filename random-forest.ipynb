{
 "cells": [
  {
   "cell_type": "code",
   "execution_count": 1,
   "id": "91f85bda",
   "metadata": {
    "_cell_guid": "b1076dfc-b9ad-4769-8c92-a6c4dae69d19",
    "_uuid": "8f2839f25d086af736a60e9eeb907d3b93b6e0e5",
    "execution": {
     "iopub.execute_input": "2023-12-14T05:23:03.513348Z",
     "iopub.status.busy": "2023-12-14T05:23:03.512897Z",
     "iopub.status.idle": "2023-12-14T05:23:05.667687Z",
     "shell.execute_reply": "2023-12-14T05:23:05.665809Z"
    },
    "papermill": {
     "duration": 2.16126,
     "end_time": "2023-12-14T05:23:05.670545",
     "exception": false,
     "start_time": "2023-12-14T05:23:03.509285",
     "status": "completed"
    },
    "tags": []
   },
   "outputs": [
    {
     "name": "stdout",
     "output_type": "stream",
     "text": [
      "['setosa' 'versicolor' 'virginica']\n",
      "['sepal length (cm)', 'sepal width (cm)', 'petal length (cm)', 'petal width (cm)']\n",
      "\n",
      "Accuracy of our Random Forst Classifier is:  95.0\n"
     ]
    }
   ],
   "source": [
    "# Import required libraries\n",
    "import sklearn\n",
    "import pandas as pd\n",
    "from sklearn import datasets\n",
    "\n",
    "# Load the iris dataset\n",
    "iris_clf = datasets.load_iris()\n",
    "print(iris_clf.target_names)\n",
    "print(iris_clf.feature_names)\n",
    "\n",
    "# Dividing the datasets into training datasets and test datasets\n",
    "X, y = datasets.load_iris( return_X_y = True)\n",
    "\n",
    "from sklearn.model_selection import train_test_split\n",
    "\n",
    "# 60 % training dataset and 40 % test datasets\n",
    "X_train, X_test, y_train,y_test = train_test_split(X, y, test_size = 0.40, random_state=0)\n",
    "\n",
    "# Import random forest classifier\n",
    "from sklearn.ensemble import RandomForestClassifier\n",
    "\n",
    "# Create dataframe\n",
    "\n",
    "#data = pd.DataFrame({'sepallength': iris_clf.data[:, 0], 'sepalwidth': iris_clf.data[:, 1], 'petallength': iris_clf.data[:, 2], 'petalwidth': iris_clf.data[:, 3], 'species': iris_clf.target})\n",
    "\n",
    "# Create a Random Forest classifier\n",
    "RForest_clf = RandomForestClassifier(n_estimators = 100)\n",
    "\n",
    "# Train the model on the training dataset by using fit() function\n",
    "RForest_clf.fit(X_train, y_train)\n",
    "\n",
    "# Predict from the test dataset\n",
    "y_pred = RForest_clf.predict(X_test)\n",
    "\n",
    "# Import metrics for accuracy calculation\n",
    "from sklearn import metrics\n",
    "\n",
    "print('\\n'\"Accuracy of our Random Forst Classifier is: \", metrics.accuracy_score(y_test, y_pred)*100)"
   ]
  }
 ],
 "metadata": {
  "kaggle": {
   "accelerator": "none",
   "dataSources": [],
   "dockerImageVersionId": 30626,
   "isGpuEnabled": false,
   "isInternetEnabled": true,
   "language": "python",
   "sourceType": "notebook"
  },
  "kernelspec": {
   "display_name": "Python 3",
   "language": "python",
   "name": "python3"
  },
  "language_info": {
   "codemirror_mode": {
    "name": "ipython",
    "version": 3
   },
   "file_extension": ".py",
   "mimetype": "text/x-python",
   "name": "python",
   "nbconvert_exporter": "python",
   "pygments_lexer": "ipython3",
   "version": "3.10.12"
  },
  "papermill": {
   "default_parameters": {},
   "duration": 5.468176,
   "end_time": "2023-12-14T05:23:06.294637",
   "environment_variables": {},
   "exception": null,
   "input_path": "__notebook__.ipynb",
   "output_path": "__notebook__.ipynb",
   "parameters": {},
   "start_time": "2023-12-14T05:23:00.826461",
   "version": "2.4.0"
  }
 },
 "nbformat": 4,
 "nbformat_minor": 5
}
